{
  "cells": [
    {
      "cell_type": "code",
      "execution_count": null,
      "metadata": {
        "colab": {
          "base_uri": "https://localhost:8080/",
          "height": 204
        },
        "colab_type": "code",
        "id": "oZNHqp5lnxz7",
        "outputId": "40ed06a4-7cf9-47d4-cc69-a7b7ec2e2205"
      },
      "outputs": [
        {
          "name": "stdout",
          "output_type": "stream",
          "text": [
            "--2020-03-15 07:42:05--  https://www.gutenberg.org/files/1661/1661-0.txt\n",
            "Resolving www.gutenberg.org (www.gutenberg.org)... 152.19.134.47, 2610:28:3090:3000:0:bad:cafe:47\n",
            "Connecting to www.gutenberg.org (www.gutenberg.org)|152.19.134.47|:443... connected.\n",
            "HTTP request sent, awaiting response... 200 OK\n",
            "Length: 607788 (594K) [text/plain]\n",
            "Saving to: ‘book.txt’\n",
            "\n",
            "book.txt            100%[===================>] 593.54K   498KB/s    in 1.2s    \n",
            "\n",
            "2020-03-15 07:42:07 (498 KB/s) - ‘book.txt’ saved [607788/607788]\n",
            "\n"
          ]
        }
      ],
      "source": [
        "#download the data and save it to poem.txt\n",
        "!wget https://www.gutenberg.org/files/1661/1661-0.txt -O book.txt"
      ]
    },
    {
      "cell_type": "code",
      "execution_count": null,
      "metadata": {
        "colab": {},
        "colab_type": "code",
        "id": "iHLcaBBEoLRd"
      },
      "outputs": [],
      "source": [
        "#read the file in text string\n",
        "text = open('book.txt', 'r', encoding='utf-8').read()\n",
        "text = text.lower()"
      ]
    },
    {
      "cell_type": "code",
      "execution_count": null,
      "metadata": {
        "colab": {},
        "colab_type": "code",
        "id": "NbUq1oKCotPP"
      },
      "outputs": [],
      "source": [
        "#create list of sentences\n",
        "sentences = text.split('\\n')"
      ]
    },
    {
      "cell_type": "code",
      "execution_count": null,
      "metadata": {
        "colab": {},
        "colab_type": "code",
        "id": "CS0-TSEE5RZL"
      },
      "outputs": [],
      "source": [
        "#import dependencies to preprocess the text data and making sequences\n",
        "import tensorflow as tf\n",
        "import keras\n",
        "from keras.preprocessing.text import Tokenizer\n",
        "from keras.preprocessing.sequence import pad_sequences"
      ]
    },
    {
      "cell_type": "code",
      "execution_count": null,
      "metadata": {
        "colab": {},
        "colab_type": "code",
        "id": "60_eT7er5qhQ"
      },
      "outputs": [],
      "source": [
        "#initialize the tokenizer, which can work char by char\n",
        "tokenizer = Tokenizer(oov_token='<UNK>')"
      ]
    },
    {
      "cell_type": "code",
      "execution_count": null,
      "metadata": {
        "colab": {},
        "colab_type": "code",
        "id": "NQ-PNcaNAeCW"
      },
      "outputs": [],
      "source": [
        "tokenizer.fit_on_texts(sentences)"
      ]
    },
    {
      "cell_type": "code",
      "execution_count": null,
      "metadata": {
        "colab": {
          "base_uri": "https://localhost:8080/",
          "height": 34
        },
        "colab_type": "code",
        "id": "3qu1rTY7NCxI",
        "outputId": "1f6b00b8-f929-4325-fa58-53fa0b44f719"
      },
      "outputs": [
        {
          "data": {
            "text/plain": [
              "8932"
            ]
          },
          "execution_count": 47,
          "metadata": {
            "tags": []
          },
          "output_type": "execute_result"
        }
      ],
      "source": [
        "vocab_size = len(tokenizer.word_index) + 1\n",
        "vocab_size"
      ]
    },
    {
      "cell_type": "code",
      "execution_count": null,
      "metadata": {},
      "outputs": [],
      "source": [
        "sequences=tokenizer.texts_to_sequences(sentences)"
      ]
    },
    {
      "cell_type": "code",
      "execution_count": null,
      "metadata": {
        "colab": {},
        "colab_type": "code",
        "id": "RaFyCfGE-vSi"
      },
      "outputs": [],
      "source": [
        "input_sequences = []\n",
        "for sequence in sequences:\n",
        "  for i in range(1, len(sequence)):\n",
        "    n_gram_sequence = sequence[:i+1]\n",
        "    input_sequences.append(n_gram_sequence)"
      ]
    },
    {
      "cell_type": "code",
      "execution_count": null,
      "metadata": {
        "colab": {
          "base_uri": "https://localhost:8080/",
          "height": 34
        },
        "colab_type": "code",
        "id": "J5RZLLmsAipB",
        "outputId": "fd6e7f17-7665-4128-a983-5239f8d60aa5"
      },
      "outputs": [
        {
          "name": "stdout",
          "output_type": "stream",
          "text": [
            "[146, 4790] [146, 4790, 2] [146, 4790, 2, 1021] [146, 4790, 2, 1021, 5]\n"
          ]
        }
      ],
      "source": [
        "print(input_sequences[0], input_sequences[1], input_sequences[2], input_sequences[3])"
      ]
    },
    {
      "cell_type": "code",
      "execution_count": null,
      "metadata": {
        "colab": {
          "base_uri": "https://localhost:8080/",
          "height": 34
        },
        "colab_type": "code",
        "id": "-3mHT6TUBApU",
        "outputId": "c2277013-0978-49b0-a0c6-fa23f862f827"
      },
      "outputs": [
        {
          "data": {
            "text/plain": [
              "20"
            ]
          },
          "execution_count": 51,
          "metadata": {
            "tags": []
          },
          "output_type": "execute_result"
        }
      ],
      "source": [
        "#find the maximum length among sequences\n",
        "max_seq_len = max([len(seq) for seq in input_sequences])\n",
        "max_seq_len"
      ]
    },
    {
      "cell_type": "code",
      "execution_count": null,
      "metadata": {
        "colab": {},
        "colab_type": "code",
        "id": "mJXOYpf3nI0H"
      },
      "outputs": [],
      "source": [
        "#we will keep the last value of the sequence as our target label and all values before that as input to sequence model"
      ]
    },
    {
      "cell_type": "code",
      "execution_count": null,
      "metadata": {
        "colab": {},
        "colab_type": "code",
        "id": "r8mnnT6nBi5K"
      },
      "outputs": [],
      "source": [
        "#pad the sequences to ensure that they are all of same length\n",
        "padded_sequences = pad_sequences(input_sequences, maxlen = max_seq_len)"
      ]
    },
    {
      "cell_type": "code",
      "execution_count": null,
      "metadata": {
        "colab": {
          "base_uri": "https://localhost:8080/",
          "height": 68
        },
        "colab_type": "code",
        "id": "GpvirsLgWPoU",
        "outputId": "96125866-e6c8-4673-f2c2-9ff447b5d60d"
      },
      "outputs": [
        {
          "name": "stdout",
          "output_type": "stream",
          "text": [
            "[   0    0    0    0    0    0    0    0    0    0    0    0    0    0\n",
            "    0    0    0    0  146 4790] [   0    0    0    0    0    0    0    0    0    0    0    0    0    0\n",
            "    0    0    0  146 4790    2]\n"
          ]
        }
      ],
      "source": [
        "print(padded_sequences[0], padded_sequences[1])"
      ]
    },
    {
      "cell_type": "code",
      "execution_count": null,
      "metadata": {
        "colab": {},
        "colab_type": "code",
        "id": "YYhboOBWCLb3"
      },
      "outputs": [],
      "source": [
        "import numpy as np\n",
        "padded_sequences = np.array(padded_sequences)"
      ]
    },
    {
      "cell_type": "code",
      "execution_count": null,
      "metadata": {
        "colab": {
          "base_uri": "https://localhost:8080/",
          "height": 51
        },
        "colab_type": "code",
        "id": "8BW2NjBcCjLz",
        "outputId": "954f7867-4180-457c-e9c9-89827d349530"
      },
      "outputs": [
        {
          "name": "stdout",
          "output_type": "stream",
          "text": [
            "20\n",
            "20\n"
          ]
        }
      ],
      "source": [
        "print(len(padded_sequences[0]))\n",
        "print(len(padded_sequences[1]))"
      ]
    },
    {
      "cell_type": "code",
      "execution_count": null,
      "metadata": {
        "colab": {},
        "colab_type": "code",
        "id": "KdvK9urMCZXC"
      },
      "outputs": [],
      "source": [
        "#prepare training sequences and labels\n",
        "x = padded_sequences[:, : -1]\n",
        "labels = padded_sequences[:, -1]"
      ]
    },
    {
      "cell_type": "code",
      "execution_count": null,
      "metadata": {
        "colab": {
          "base_uri": "https://localhost:8080/",
          "height": 34
        },
        "colab_type": "code",
        "id": "zBMmN6-qMqKu",
        "outputId": "649da6da-50ea-41ec-96b1-30f5a846f908"
      },
      "outputs": [
        {
          "data": {
            "text/plain": [
              "(101619,)"
            ]
          },
          "execution_count": 57,
          "metadata": {
            "tags": []
          },
          "output_type": "execute_result"
        }
      ],
      "source": [
        "labels.shape"
      ]
    },
    {
      "cell_type": "code",
      "execution_count": null,
      "metadata": {
        "colab": {},
        "colab_type": "code",
        "id": "wvrPC8n5Dw61"
      },
      "outputs": [],
      "source": [
        "#to one hot encode the labels\n",
        "y = tf.keras.utils.to_categorical(labels, num_classes=vocab_size)"
      ]
    },
    {
      "cell_type": "code",
      "execution_count": null,
      "metadata": {
        "colab": {
          "base_uri": "https://localhost:8080/",
          "height": 34
        },
        "colab_type": "code",
        "id": "ncT36ipmJaqR",
        "outputId": "c5726ee4-105e-4394-bc0f-aa29ab4476d1"
      },
      "outputs": [
        {
          "data": {
            "text/plain": [
              "(101619, 19)"
            ]
          },
          "execution_count": 59,
          "metadata": {
            "tags": []
          },
          "output_type": "execute_result"
        }
      ],
      "source": [
        "x.shape"
      ]
    },
    {
      "cell_type": "code",
      "execution_count": null,
      "metadata": {
        "colab": {},
        "colab_type": "code",
        "id": "AIdAL56IcTXW"
      },
      "outputs": [],
      "source": [
        "#x = x.reshape(x.shape[0], x.shape[1], 1)"
      ]
    },
    {
      "cell_type": "code",
      "execution_count": null,
      "metadata": {
        "colab": {
          "base_uri": "https://localhost:8080/",
          "height": 34
        },
        "colab_type": "code",
        "id": "dSSjSqj-JXrU",
        "outputId": "bb6b0faf-4a0b-4b12-c31e-cfc30946c80f"
      },
      "outputs": [
        {
          "data": {
            "text/plain": [
              "(101619, 8932)"
            ]
          },
          "execution_count": 60,
          "metadata": {
            "tags": []
          },
          "output_type": "execute_result"
        }
      ],
      "source": [
        "y.shape"
      ]
    },
    {
      "cell_type": "code",
      "execution_count": null,
      "metadata": {
        "colab": {},
        "colab_type": "code",
        "id": "G6H2aOeJGIfG"
      },
      "outputs": [],
      "source": [
        "#import dependencies for defining the model\n",
        "from tensorflow.keras.models import Sequential\n",
        "from tensorflow.keras.layers import Embedding, Bidirectional, LSTM, Dense\n",
        "from tensorflow.keras.optimizers import Adam"
      ]
    },
    {
      "cell_type": "code",
      "execution_count": null,
      "metadata": {
        "colab": {
          "base_uri": "https://localhost:8080/",
          "height": 255
        },
        "colab_type": "code",
        "id": "NKJVkDw8GxCH",
        "outputId": "4c99f965-1eb8-49fa-fb14-63676147d72f"
      },
      "outputs": [
        {
          "name": "stdout",
          "output_type": "stream",
          "text": [
            "Model: \"sequential_2\"\n",
            "_________________________________________________________________\n",
            "Layer (type)                 Output Shape              Param #   \n",
            "=================================================================\n",
            "embedding_2 (Embedding)      (None, 19, 100)           893200    \n",
            "_________________________________________________________________\n",
            "bidirectional_2 (Bidirection (None, 512)               731136    \n",
            "_________________________________________________________________\n",
            "dense_2 (Dense)              (None, 8932)              4582116   \n",
            "=================================================================\n",
            "Total params: 6,206,452\n",
            "Trainable params: 6,206,452\n",
            "Non-trainable params: 0\n",
            "_________________________________________________________________\n"
          ]
        }
      ],
      "source": [
        "#define and compile the model\n",
        "model = Sequential()\n",
        "model.add(Embedding(vocab_size, 100, input_length=max_seq_len-1))\n",
        "model.add(Bidirectional(LSTM(256)))\n",
        "model.add(Dense(vocab_size, activation='softmax'))\n",
        "adam = Adam(learning_rate=0.01)\n",
        "model.compile(loss='categorical_crossentropy', optimizer=adam, metrics=['acc'])\n",
        "model.summary()"
      ]
    },
    {
      "cell_type": "code",
      "execution_count": null,
      "metadata": {
        "colab": {},
        "colab_type": "code",
        "id": "O_L_wdid2YzQ"
      },
      "outputs": [],
      "source": [
        "#initialize the callback for early stopping the training if there is not at least 1% improvement in the accuracy \n",
        "from tensorflow.keras.callbacks import EarlyStopping\n",
        "es = EarlyStopping(monitor = 'acc', min_delta=0.01)"
      ]
    },
    {
      "cell_type": "code",
      "execution_count": null,
      "metadata": {
        "colab": {
          "base_uri": "https://localhost:8080/",
          "height": 663
        },
        "colab_type": "code",
        "id": "PAyKsdQtHxkk",
        "outputId": "0a57c835-6cc6-46f0-9f40-a9d9341b17d6"
      },
      "outputs": [
        {
          "name": "stdout",
          "output_type": "stream",
          "text": [
            "Train on 101619 samples\n",
            "Epoch 1/50\n",
            "101619/101619 [==============================] - 29s 289us/sample - loss: 6.3555 - acc: 0.0736\n",
            "Epoch 2/50\n",
            "101619/101619 [==============================] - 28s 279us/sample - loss: 5.4691 - acc: 0.1326\n",
            "Epoch 3/50\n",
            "101619/101619 [==============================] - 28s 278us/sample - loss: 4.9111 - acc: 0.1687\n",
            "Epoch 4/50\n",
            "101619/101619 [==============================] - 28s 279us/sample - loss: 4.3802 - acc: 0.1995\n",
            "Epoch 5/50\n",
            "101619/101619 [==============================] - 28s 279us/sample - loss: 3.8608 - acc: 0.2387\n",
            "Epoch 6/50\n",
            "101619/101619 [==============================] - 28s 279us/sample - loss: 3.3962 - acc: 0.2886\n",
            "Epoch 7/50\n",
            "101619/101619 [==============================] - 28s 278us/sample - loss: 3.0681 - acc: 0.3341\n",
            "Epoch 8/50\n",
            "101619/101619 [==============================] - 28s 278us/sample - loss: 2.8082 - acc: 0.3719\n",
            "Epoch 9/50\n",
            "101619/101619 [==============================] - 28s 278us/sample - loss: 2.5226 - acc: 0.4186\n",
            "Epoch 10/50\n",
            "101619/101619 [==============================] - 28s 277us/sample - loss: 2.2584 - acc: 0.4655\n",
            "Epoch 11/50\n",
            "101619/101619 [==============================] - 28s 277us/sample - loss: 2.0669 - acc: 0.5033\n",
            "Epoch 12/50\n",
            "101619/101619 [==============================] - 28s 277us/sample - loss: 1.9122 - acc: 0.5332\n",
            "Epoch 13/50\n",
            "101619/101619 [==============================] - 28s 279us/sample - loss: 1.7943 - acc: 0.5572\n",
            "Epoch 14/50\n",
            "101619/101619 [==============================] - 28s 278us/sample - loss: 1.7018 - acc: 0.5753\n",
            "Epoch 15/50\n",
            "101619/101619 [==============================] - 28s 277us/sample - loss: 1.6178 - acc: 0.5933\n",
            "Epoch 16/50\n",
            "101619/101619 [==============================] - 28s 278us/sample - loss: 1.5524 - acc: 0.6050\n",
            "Epoch 17/50\n",
            "101619/101619 [==============================] - 28s 278us/sample - loss: 1.4936 - acc: 0.6183\n",
            "Epoch 18/50\n",
            "101619/101619 [==============================] - 28s 278us/sample - loss: 1.4422 - acc: 0.6282\n"
          ]
        },
        {
          "data": {
            "text/plain": [
              "<tensorflow.python.keras.callbacks.History at 0x7f617f3ebf28>"
            ]
          },
          "execution_count": 65,
          "metadata": {
            "tags": []
          },
          "output_type": "execute_result"
        }
      ],
      "source": [
        "model.fit(x, y, epochs=50, verbose=1, batch_size=512, callbacks=[es])"
      ]
    },
    {
      "cell_type": "code",
      "execution_count": null,
      "metadata": {
        "colab": {
          "base_uri": "https://localhost:8080/",
          "height": 54
        },
        "colab_type": "code",
        "id": "sKmppR6VRUwf",
        "outputId": "49d00480-6ce6-41e4-b932-7b8b2d4d11ae"
      },
      "outputs": [
        {
          "name": "stdout",
          "output_type": "stream",
          "text": [
            "I could not help laughing at the ease with which he explained his process of deduction “when i hear the gentle breathing of the companions which i have longed to the doings of hugh that lay forth the wild scream of the arabian i saw the blow the blow which was the stage lost which the amateur mendicant society who was thoroughly at home with a quiet and seven her until the time while i conduct of the house get his money for the coming of the day and explained that the second is to the main goodness to tell you the chain of a man with horror i remember the little that the gems had\n"
          ]
        }
      ],
      "source": [
        "#Time to become storyteller!\n",
        "seed_text = \"I could not help laughing at the ease with which he explained his process of deduction\"          \n",
        "next_words = 100\n",
        "  \n",
        "for _ in range(next_words):\n",
        "  sequence = tokenizer.texts_to_sequences([seed_text])\n",
        "  padded = pad_sequences(sequence, maxlen=max_seq_len-1)\n",
        "  predicted = model.predict_classes(padded, verbose=0)\n",
        "  output_word = ''\n",
        "  for word, index in tokenizer.word_index.items():\n",
        "    if index == predicted:\n",
        "      output_word = word\n",
        "      break\n",
        "  seed_text += ' ' + output_word\n",
        "print(seed_text)"
      ]
    },
    {
      "cell_type": "code",
      "execution_count": null,
      "metadata": {
        "colab": {
          "base_uri": "https://localhost:8080/",
          "height": 545
        },
        "colab_type": "code",
        "id": "xx1NNNxMILmW",
        "outputId": "5e186ffd-4dce-4346-dfdb-7307b7e7965b"
      },
      "outputs": [
        {
          "data": {
            "image/png": "[encoded data removed]",
            "text/plain": [
              "<Figure size 432x288 with 1 Axes>"
            ]
          },
          "metadata": {
            "tags": []
          },
          "output_type": "display_data"
        },
        {
          "data": {
            "image/png": "[encoded data removed]",
            "text/plain": [
              "<Figure size 432x288 with 1 Axes>"
            ]
          },
          "metadata": {
            "tags": []
          },
          "output_type": "display_data"
        }
      ],
      "source": [
        "#let's look at how loss and accuracy changed while training\n",
        "import matplotlib.pyplot as plt\n",
        "history = model.history\n",
        "acc = history.history['acc']\n",
        "loss = history.history['loss']\n",
        "\n",
        "epochs = range(len(acc))\n",
        "\n",
        "plt.plot(epochs, acc, 'b', label='Training accuracy')\n",
        "plt.title('Training accuracy')\n",
        "\n",
        "plt.figure()\n",
        "\n",
        "plt.plot(epochs, loss, 'b', label='Training Loss')\n",
        "plt.title('Training loss')\n",
        "plt.legend()\n",
        "\n",
        "plt.show()"
      ]
    }
  ],
  "metadata": {
    "accelerator": "GPU",
    "colab": {
      "collapsed_sections": [],
      "machine_shape": "hm",
      "name": "project_text_generation_final.ipynb",
      "provenance": []
    },
    "kernelspec": {
      "display_name": "Python 3",
      "name": "python3"
    }
  },
  "nbformat": 4,
  "nbformat_minor": 0
}
